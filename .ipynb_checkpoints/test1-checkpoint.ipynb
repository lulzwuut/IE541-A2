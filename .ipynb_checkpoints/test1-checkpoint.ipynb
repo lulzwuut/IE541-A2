{
 "cells": [
  {
   "cell_type": "code",
   "execution_count": 2,
   "metadata": {},
   "outputs": [
    {
     "name": "stdout",
     "output_type": "stream",
     "text": [
      "gen\tnevals\tavg  \tmin\tmax\n",
      "0  \t50    \t50.14\t35 \t59 \n",
      "1  \t19    \t55.06\t46 \t63 \n",
      "2  \t27    \t57.82\t53 \t63 \n",
      "3  \t30    \t60.16\t53 \t67 \n",
      "4  \t28    \t62.24\t55 \t69 \n",
      "5  \t24    \t65.24\t54 \t73 \n",
      "6  \t32    \t67.58\t56 \t74 \n",
      "7  \t31    \t70.3 \t62 \t76 \n",
      "8  \t31    \t71.96\t67 \t76 \n",
      "9  \t35    \t73   \t65 \t79 \n",
      "10 \t31    \t74.94\t67 \t79 \n",
      "Best individual is: [1, 1, 1, 0, 1, 1, 1, 1, 1, 1, 0, 1, 1, 0, 1, 1, 1, 0, 1, 1, 0, 1, 1, 1, 0, 1, 0, 1, 0, 1, 1, 1, 1, 1, 1, 1, 1, 1, 1, 0, 1, 1, 1, 1, 1, 1, 1, 0, 0, 1, 1, 1, 1, 1, 1, 1, 1, 1, 1, 1, 1, 0, 1, 1, 0, 1, 0, 1, 1, 1, 0, 1, 1, 1, 1, 1, 0, 1, 1, 0, 0, 1, 1, 1, 1, 1, 1, 0, 1, 1, 1, 1, 1, 1, 1, 0, 1, 0, 1, 1]\n",
      "with fitness: (79.0,)\n"
     ]
    },
    {
     "name": "stderr",
     "output_type": "stream",
     "text": [
      "/opt/anaconda3/lib/python3.8/site-packages/deap/creator.py:138: RuntimeWarning: A class named 'FitnessMax' has already been created and it will be overwritten. Consider deleting previous creation of that class or rename it.\n",
      "  warnings.warn(\"A class named '{0}' has already been created and it \"\n",
      "/opt/anaconda3/lib/python3.8/site-packages/deap/creator.py:138: RuntimeWarning: A class named 'Individual' has already been created and it will be overwritten. Consider deleting previous creation of that class or rename it.\n",
      "  warnings.warn(\"A class named '{0}' has already been created and it \"\n"
     ]
    },
    {
     "data": {
      "image/png": "[encoded data removed]",
      "text/plain": [
       "<Figure size 432x288 with 1 Axes>"
      ]
     },
     "metadata": {
      "needs_background": "light"
     },
     "output_type": "display_data"
    }
   ],
   "source": [
    "import random\n",
    "from deap import algorithms, base, creator, tools\n",
    "\n",
    "creator.create(\"FitnessMax\", base.Fitness, weights=(1.0,))\n",
    "creator.create(\"Individual\", list, fitness=creator.FitnessMax)\n",
    "\n",
    "def evalOneMax(individual):\n",
    "    return (sum(individual),)\n",
    "\n",
    "toolbox = base.Toolbox()\n",
    "toolbox.register(\"attr_bool\", random.randint, 0, 1)\n",
    "toolbox.register(\"individual\", tools.initRepeat, creator.Individual, toolbox.attr_bool, n=100)\n",
    "toolbox.register(\"population\", tools.initRepeat, list, toolbox.individual)\n",
    "toolbox.register(\"evaluate\", evalOneMax)\n",
    "toolbox.register(\"mate\", tools.cxTwoPoint)\n",
    "toolbox.register(\"mutate\", tools.mutFlipBit, indpb=0.05)\n",
    "toolbox.register(\"select\", tools.selTournament, tournsize=3)\n",
    "\n",
    "def main():\n",
    "    import numpy\n",
    "    \n",
    "    pop = toolbox.population(n=50)\n",
    "    hof = tools.HallOfFame(1)\n",
    "    stats = tools.Statistics(lambda ind: ind.fitness.values)\n",
    "    stats.register(\"avg\", numpy.mean)\n",
    "    stats.register(\"min\", numpy.min)\n",
    "    stats.register(\"max\", numpy.max)\n",
    "    \n",
    "    pop, logbook = algorithms.eaSimple(pop, toolbox, cxpb=0.5, mutpb=0.2, ngen=10, stats=stats, halloffame=hof, verbose=True)\n",
    "    \n",
    "    return pop, logbook, hof\n",
    "\n",
    "if __name__ == \"__main__\":\n",
    "    pop, log, hof = main()\n",
    "    print(\"Best individual is: %s\\nwith fitness: %s\" % (hof[0], hof[0].fitness))\n",
    "    \n",
    "    import matplotlib.pyplot as plt\n",
    "    gen, avg, min_, max_ = log.select(\"gen\", \"avg\", \"min\", \"max\")\n",
    "    plt.plot(gen, avg, label=\"average\")\n",
    "    plt.plot(gen, min_, label=\"minimum\")\n",
    "    plt.plot(gen, max_, label=\"maximum\")\n",
    "    plt.xlabel(\"Generation\")\n",
    "    plt.ylabel(\"Fitness\")\n",
    "    plt.legend(loc=\"lower right\")\n",
    "    plt.show()\n",
    "    "
   ]
  },
  {
   "cell_type": "code",
   "execution_count": 30,
   "metadata": {},
   "outputs": [
    {
     "name": "stdout",
     "output_type": "stream",
     "text": [
      "           i    p[i]   w[i]  x[i]\n",
      "0          1   114.0  582.0   0.0\n",
      "1          2    38.0  194.0   0.0\n",
      "2          3   133.0  679.0   0.0\n",
      "3          4    95.0  485.0   0.0\n",
      "4          5   612.0  396.0   0.0\n",
      "...      ...     ...    ...   ...\n",
      "10590     97   512.0  244.0   1.0\n",
      "10591     98  1024.0  488.0   1.0\n",
      "10592     99  1024.0  488.0   1.0\n",
      "10593    100   512.0  244.0   1.0\n",
      "10594  -----     NaN    NaN   NaN\n",
      "\n",
      "[10595 rows x 4 columns]\n"
     ]
    }
   ],
   "source": [
    "import pandas as pd\n",
    "\n",
    "bench_params = pd.read_csv('benchmarks/knapPI_11_100_1000.csv', nrows=4)\n",
    "bench_params = bench_params.values.tolist()\n",
    "bench_iterations = pd.read_csv('benchmarks/knapPI_11_100_1000.csv', skiprows=5, header = None, names = ['i', 'p[i]', 'w[i]', 'x[i]'])\n",
    "\n",
    "\n",
    "print(bench_iterations)\n"
   ]
  },
  {
   "cell_type": "code",
   "execution_count": 202,
   "metadata": {
    "scrolled": true
   },
   "outputs": [
    {
     "name": "stdout",
     "output_type": "stream",
     "text": [
      "[[1900.0, 410.0, 0.0], [1312.0, 720.0, 0.0], [190.0, 41.0, 0.0], [1312.0, 720.0, 0.0], [820.0, 450.0, 0.0], [1520.0, 328.0, 0.0], [820.0, 450.0, 0.0], [984.0, 540.0, 0.0], [190.0, 41.0, 0.0], [164.0, 90.0, 0.0], [380.0, 82.0, 0.0], [1312.0, 720.0, 0.0], [1640.0, 900.0, 0.0], [984.0, 540.0, 0.0], [760.0, 164.0, 0.0], [380.0, 82.0, 0.0], [1312.0, 720.0, 0.0], [1640.0, 900.0, 0.0], [164.0, 90.0, 0.0], [1640.0, 900.0, 0.0], [380.0, 82.0, 0.0], [656.0, 360.0, 0.0], [820.0, 450.0, 0.0], [570.0, 123.0, 0.0], [1710.0, 369.0, 0.0], [164.0, 90.0, 0.0], [328.0, 180.0, 0.0], [760.0, 164.0, 0.0], [570.0, 123.0, 0.0], [1520.0, 328.0, 0.0], [190.0, 41.0, 0.0], [1312.0, 720.0, 0.0], [820.0, 450.0, 0.0], [1710.0, 369.0, 0.0], [1710.0, 369.0, 0.0], [1312.0, 720.0, 0.0], [190.0, 41.0, 0.0], [328.0, 180.0, 0.0], [1330.0, 287.0, 0.0], [1148.0, 630.0, 0.0], [1140.0, 246.0, 0.0], [1900.0, 410.0, 0.0], [570.0, 123.0, 0.0], [820.0, 450.0, 0.0], [492.0, 270.0, 0.0], [380.0, 82.0, 0.0], [820.0, 450.0, 0.0], [492.0, 270.0, 0.0], [1330.0, 287.0, 0.0], [820.0, 450.0, 0.0], [950.0, 205.0, 1.0], [492.0, 270.0, 0.0], [492.0, 270.0, 0.0], [1476.0, 810.0, 0.0], [656.0, 360.0, 0.0], [1520.0, 328.0, 1.0], [328.0, 180.0, 0.0], [1640.0, 900.0, 0.0], [190.0, 41.0, 1.0], [1476.0, 810.0, 0.0], [984.0, 540.0, 0.0], [1640.0, 900.0, 0.0], [1330.0, 287.0, 1.0], [492.0, 270.0, 0.0], [164.0, 90.0, 0.0], [190.0, 41.0, 0.0], [656.0, 360.0, 0.0], [1312.0, 720.0, 0.0], [820.0, 450.0, 0.0], [820.0, 450.0, 0.0], [190.0, 41.0, 0.0], [1330.0, 287.0, 0.0], [1520.0, 328.0, 0.0], [1476.0, 810.0, 0.0], [380.0, 82.0, 0.0], [1330.0, 287.0, 0.0], [950.0, 205.0, 0.0], [164.0, 90.0, 0.0], [820.0, 450.0, 0.0], [1330.0, 287.0, 0.0], [1900.0, 410.0, 0.0], [492.0, 270.0, 0.0], [164.0, 90.0, 0.0], [1640.0, 900.0, 0.0], [380.0, 82.0, 0.0], [1140.0, 246.0, 0.0], [1330.0, 287.0, 0.0], [1900.0, 410.0, 0.0], [1640.0, 900.0, 0.0], [1710.0, 369.0, 0.0], [1640.0, 900.0, 0.0], [1640.0, 900.0, 0.0], [1520.0, 328.0, 0.0], [164.0, 90.0, 0.0], [1900.0, 410.0, 0.0], [1900.0, 410.0, 0.0], [1710.0, 369.0, 0.0], [950.0, 205.0, 0.0], [190.0, 41.0, 0.0], [190.0, 41.0, 0.0]]\n"
     ]
    }
   ],
   "source": [
    "its = pd.read_csv('benchmarks/knapPI_11_100_1000.csv', header = None, names = ['i', 'p[i]', 'w[i]', 'x[i]'])\n",
    "its = its.drop('i', axis=1)\n",
    "its = its.values.tolist()\n",
    "\n",
    "\n",
    "with open('benchmarks/knapPI_11_100_1000.csv') as f:\n",
    "        lines = f.readlines()\n",
    "i = 0\n",
    "j = 0\n",
    "k = 0\n",
    "ref = []\n",
    "n = []\n",
    "c = []\n",
    "z = []\n",
    "t = []\n",
    "inst_its = []\n",
    "\n",
    "while i < len(lines):\n",
    "    ref.append(lines[i])\n",
    "    n.append(lines[i+1].split(' ')[1])\n",
    "    c.append(lines[i+2].split(' ')[1])\n",
    "    z.append(lines[i+3].split(' ')[1])\n",
    "    t.append(lines[i+4].split(' ')[1])\n",
    "    inst_its.append(its[k+5:k+int(n[0])+5])\n",
    "    i = i+107\n",
    "    j = j+1\n",
    "    k = k + 106\n",
    "\n",
    "print(inst_its[1])\n",
    "\n",
    "\n"
   ]
  },
  {
   "cell_type": "code",
   "execution_count": 215,
   "metadata": {},
   "outputs": [
    {
     "name": "stdout",
     "output_type": "stream",
     "text": [
      "['0.00', '0.00', '0.00', '0.00', '0.00', '0.00', '0.00', '0.00', '0.00', '0.00', '0.00', '0.00', '0.00', '0.00', '0.00', '0.00', '0.00', '0.00', '0.00', '0.00', '0.00', '0.00', '0.00', '0.00', '0.00', '0.00', '0.00', '0.00', '0.00', '0.00', '0.00', '0.00', '0.00', '0.00', '0.00', '0.00', '0.00', '0.00', '0.00', '0.00', '0.00', '0.00', '0.00', '0.00', '0.00', '0.00', '0.00', '0.00', '0.00', '0.00', '0.00', '0.00', '0.00', '0.00', '0.00', '0.00', '0.00', '0.00', '0.00', '0.00', '0.00', '0.00', '0.00', '0.00', '0.00', '0.00', '0.00', '0.00', '0.00', '0.00', '0.00', '0.00', '0.00', '0.00', '0.00', '0.00', '0.00', '0.00', '0.00', '0.00', '0.00', '0.00', '0.00', '0.00', '0.00', '0.00', '0.00', '0.00', '0.00', '0.00', '0.00', '0.00', '0.00', '0.00', '0.00', '0.00', '0.00', '0.00', '0.00', '0.00']\n"
     ]
    }
   ],
   "source": [
    "def read_f(f):\n",
    "    its = pd.read_csv(f, header = None, names = ['i', 'p[i]', 'w[i]', 'x[i]'])\n",
    "    its = its.drop('i', axis=1)\n",
    "    its = its.values.tolist()\n",
    "    with open(f) as file:\n",
    "        lines = file.readlines()\n",
    "    i = 0\n",
    "    j = 0\n",
    "    ref = []\n",
    "    n = []\n",
    "    c = []\n",
    "    z = []\n",
    "    t = []\n",
    "    inst_its = []\n",
    "\n",
    "    while i < len(lines):\n",
    "        ref.append(lines[i].replace('\\n',''))\n",
    "        n.append(lines[i+1].replace('\\n','').split(' ')[1])\n",
    "        c.append(lines[i+2].replace('\\n','').split(' ')[1])\n",
    "        z.append(lines[i+3].replace('\\n','').split(' ')[1])\n",
    "        t.append(lines[i+4].replace('\\n','').split(' ')[1])\n",
    "        inst_its.append(its[j+5:j+int(n[0])+5])\n",
    "        i = i+107\n",
    "        j = j + 106\n",
    "\n",
    "    return ref,n, c, z, t, inst_its\n",
    "\n",
    "####\n",
    "# available keys: ref (instance reference) \n",
    "# n (number of items)\n",
    "# c (weight constraint)\n",
    "# z (??)\n",
    "# t (time spent iterating)\n",
    "# inst_its (p[i], w[i], x[i]) (profit, weight, pick/not for every iteration)\n",
    "####\n",
    "\n",
    "ref, n, c, z, t, inst_its = read_f('benchmarks/knapPI_11_100_1000.csv')\n",
    "\n"
   ]
  },
  {
   "cell_type": "code",
   "execution_count": null,
   "metadata": {},
   "outputs": [],
   "source": []
  },
  {
   "cell_type": "code",
   "execution_count": null,
   "metadata": {},
   "outputs": [],
   "source": []
  }
 ],
 "metadata": {
  "kernelspec": {
   "display_name": "Python 3",
   "language": "python",
   "name": "python3"
  },
  "language_info": {
   "codemirror_mode": {
    "name": "ipython",
    "version": 3
   },
   "file_extension": ".py",
   "mimetype": "text/x-python",
   "name": "python",
   "nbconvert_exporter": "python",
   "pygments_lexer": "ipython3",
   "version": "3.8.8"
  }
 },
 "nbformat": 4,
 "nbformat_minor": 2
}
