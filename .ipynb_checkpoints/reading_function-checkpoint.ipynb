{
 "cells": [
  {
   "cell_type": "code",
   "execution_count": null,
   "id": "6b5e0e6b",
   "metadata": {},
   "outputs": [],
   "source": [
    "def read_f(f):\n",
    "    its = pd.read_csv(f, header = None, names = ['i', 'p[i]', 'w[i]', 'x[i]'])\n",
    "    its = its.drop('i', axis=1)\n",
    "    its = its.values.tolist()\n",
    "    with open(f) as file:\n",
    "        lines = file.readlines()\n",
    "    i = 0\n",
    "    j = 0\n",
    "    ref = []\n",
    "    n = []\n",
    "    c = []\n",
    "    z = []\n",
    "    t = []\n",
    "    inst_its = []\n",
    "\n",
    "    while i < len(lines):\n",
    "        ref.append(lines[i].replace('\\n',''))\n",
    "        n.append(lines[i+1].replace('\\n','').split(' ')[1])\n",
    "        c.append(lines[i+2].replace('\\n','').split(' ')[1])\n",
    "        z.append(lines[i+3].replace('\\n','').split(' ')[1])\n",
    "        t.append(lines[i+4].replace('\\n','').split(' ')[1])\n",
    "        inst_its.append(its[j+5:j+int(n[0])+5])\n",
    "        i = i+107\n",
    "        j = j + 106\n",
    "\n",
    "    return ref,n, c, z, t, inst_its\n",
    "\n",
    "####\n",
    "# available keys: \n",
    "# ref (instance reference) \n",
    "# n (number of items)\n",
    "# c (weight constraint)\n",
    "# z (??)\n",
    "# t (time spent iterating)\n",
    "# inst_its (p[i], w[i], x[i]) (profit, weight, pick/not for every iteration)\n",
    "####\n",
    "\n",
    "ref, n, c, z, t, inst_its = read_f('benchmarks/knapPI_11_100_1000.csv')\n",
    "\n",
    "\n"
   ]
  }
 ],
 "metadata": {
  "kernelspec": {
   "display_name": "Python 3",
   "language": "python",
   "name": "python3"
  },
  "language_info": {
   "codemirror_mode": {
    "name": "ipython",
    "version": 3
   },
   "file_extension": ".py",
   "mimetype": "text/x-python",
   "name": "python",
   "nbconvert_exporter": "python",
   "pygments_lexer": "ipython3",
   "version": "3.8.8"
  }
 },
 "nbformat": 4,
 "nbformat_minor": 5
}
